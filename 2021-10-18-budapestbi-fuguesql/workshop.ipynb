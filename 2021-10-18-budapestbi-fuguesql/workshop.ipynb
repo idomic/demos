{
 "cells": [
  {
   "cell_type": "markdown",
   "metadata": {},
   "source": [
    "<img src=\"https://raw.githubusercontent.com/fugue-project/fugue/master/images/logo.svg\" align=\"left\" width=\"200\"/>"
   ]
  },
  {
   "cell_type": "markdown",
   "metadata": {},
   "source": [
    "<details>\n",
    "<summary>About this notebook</summary>\n",
    "\n",
    "This notebook is a demonstration of FugueSQL prepared for Thinkful Data Analyst Bootcamp students. **FugueSQL is a language that allows SQL Users to use in-memory data frameworks such Pandas, Spark, and Dask with a SQL interface**. It has some differences from standard SQL that will be shows here. \n",
    "\n",
    "FugueSQL aims to be more English-like, and provide a fun interface for Data Analysts to work with data in their tool of choice. The FugueSQL notebook extension allows users to use FugueSQL with syntax highlighting in Jupyter notebook cells\n",
    "\n",
    "Fugue also has a programming interface that is not covered in this notebook. The programming interface is not covered here, but the link to the repo and Slack channels are listed below if anyone is interested.\n",
    "\n",
    "## Links \n",
    "\n",
    "Fugue is a pure abstraction layer that makes code portable across differing computing frameworks such as Pandas, Spark and Dask. It allows users to write code compatible across all 3 frameworks. It guarantees consistency regardless of scale and a unified framework for compute. All questions are welcome in the Slack channel.\n",
    "\n",
    "[![Jupyter Book Badge](https://jupyterbook.org/badge.svg)](https://fugue-project.github.io/tutorials/) ⬅️ Open the tutorials\n",
    "\n",
    "[![Homepage](https://img.shields.io/badge/fugue-source--code-red?logo=github)](https://github.com/fugue-project/fugue) ⬅️ Check out our source code\n",
    "\n",
    "[![Slack Status](https://img.shields.io/badge/slack-join_chat-white.svg?logo=slack&style=social)](https://join.slack.com/t/fugue-project/shared_invite/zt-jl0pcahu-KdlSOgi~fP50TZWmNxdWYQ) ⬅️ Chat with us on slack\n",
    "\n",
    "**Note:**  A lot of the plots and EDA here is based off [this notebook](https://www.kaggle.com/sudalairajkumar/simple-exploration-notebook-instacart) by [sudalairajkumar](https://github.com/SudalaiRajkumar)\n",
    "\n",
    "</details>"
   ]
  },
  {
   "cell_type": "markdown",
   "metadata": {},
   "source": [
    "# Setup\n",
    "\n",
    "Install `FugueSQL` & `s3fs` (to access data stored on Amazon s3)"
   ]
  },
  {
   "cell_type": "code",
   "execution_count": null,
   "metadata": {},
   "outputs": [],
   "source": [
    "!pip install fuggle[sql] s3fs"
   ]
  },
  {
   "cell_type": "markdown",
   "metadata": {},
   "source": [
    "Import & run `setup()` to enable syntax highlighting for `FugueSQL` cells & the use of the `%%fsql` magic"
   ]
  },
  {
   "cell_type": "code",
   "execution_count": null,
   "metadata": {},
   "outputs": [],
   "source": [
    "from fugue_notebook import setup\n",
    "setup()"
   ]
  },
  {
   "cell_type": "markdown",
   "metadata": {},
   "source": [
    "# `FugueSQL` is `SQL` compliant "
   ]
  },
  {
   "cell_type": "code",
   "execution_count": null,
   "metadata": {},
   "outputs": [],
   "source": [
    "%%fsql\n",
    "CREATE [[\"2020-01-01\", 1, \"a\"],\n",
    "        [\"2020-01-02\", 2, \"b\"],\n",
    "        [\"2020-01-03\", 3, \"c\"],\n",
    "        [\"2020-01-04\", 4, \"a\"],\n",
    "        [\"2020-01-05\", 5, \"b\"]]\n",
    "  SCHEMA date:datetime, val1:int, val2:str\n",
    "YIELD DATAFRAME AS data "
   ]
  },
  {
   "cell_type": "markdown",
   "metadata": {},
   "source": [
    "## WHERE"
   ]
  },
  {
   "cell_type": "code",
   "execution_count": null,
   "metadata": {},
   "outputs": [],
   "source": [
    "%%fsql\n",
    "SELECT *\n",
    "  FROM data\n",
    "WHERE date < \"2020-01-03\"\n",
    "PRINT"
   ]
  },
  {
   "cell_type": "code",
   "execution_count": null,
   "metadata": {},
   "outputs": [],
   "source": [
    "%%fsql\n",
    "SELECT *\n",
    "  FROM data\n",
    "WHERE date BETWEEN \"2020-01-03\" AND \"2020-01-05\" \n",
    "PRINT "
   ]
  },
  {
   "cell_type": "code",
   "execution_count": null,
   "metadata": {},
   "outputs": [],
   "source": [
    "%%fsql\n",
    "SELECT date, val1, val2\n",
    "  FROM data\n",
    "WHERE val2 IN (\"a\",\"b\")\n",
    "PRINT"
   ]
  },
  {
   "cell_type": "markdown",
   "metadata": {},
   "source": [
    "## GROUP BY"
   ]
  },
  {
   "cell_type": "code",
   "execution_count": null,
   "metadata": {},
   "outputs": [],
   "source": [
    "%%fsql\n",
    "SELECT val2, SUM(val1) AS total\n",
    "  FROM data\n",
    "GROUP BY val2\n",
    "PRINT "
   ]
  },
  {
   "cell_type": "markdown",
   "metadata": {},
   "source": [
    "## CASE"
   ]
  },
  {
   "cell_type": "code",
   "execution_count": null,
   "metadata": {},
   "outputs": [],
   "source": [
    "%%fsql\n",
    "SELECT date, val1,\n",
    "CASE\n",
    "    WHEN val1 = 1 THEN 'The quantity is 1'\n",
    "    WHEN val1 = 2 THEN 'The quantity is 2'\n",
    "    ELSE 'The quantity is greater than 3'\n",
    "END AS val1_text\n",
    "FROM data\n",
    "PRINT"
   ]
  },
  {
   "cell_type": "markdown",
   "metadata": {},
   "source": [
    "# Superpowers"
   ]
  },
  {
   "cell_type": "markdown",
   "metadata": {},
   "source": [
    "## Load & save data\n",
    "\n",
    "`FugueSQL` enables users to work with data not stored in a database.\n",
    "\n",
    "You can load from csv/json/parquet files stored locally or on remote file systems (`Amazon s3`, `Google Cloud Platform`, `Azure` etc)\n",
    "\n",
    "We can load in data, perform transformations on it, and then write out the results"
   ]
  },
  {
   "cell_type": "code",
   "execution_count": null,
   "metadata": {},
   "outputs": [],
   "source": [
    "%%fsql\n",
    "LOAD \"s3://kaggle-data-instacart/aisles.csv\" (header=TRUE, infer_schema=TRUE)\n",
    "YIELD DATAFRAME AS aisles\n",
    "PRINT "
   ]
  },
  {
   "cell_type": "code",
   "execution_count": null,
   "metadata": {},
   "outputs": [],
   "source": [
    "%%fsql\n",
    "SELECT * FROM aisles\n",
    "WHERE aisle_id = 3\n",
    "PRINT\n",
    "SAVE OVERWRITE \"/tmp/working/aisles-modified.csv\""
   ]
  },
  {
   "cell_type": "markdown",
   "metadata": {},
   "source": [
    "## Calling `Python` functions from `FugueSQL`?"
   ]
  },
  {
   "cell_type": "markdown",
   "metadata": {},
   "source": [
    "### Complex operations\n",
    "\n",
    "Sometimes complex operation are better expressed in `Python`\n",
    "\n",
    "With `FugueSQL` you can express an operation in `Python` and call it in `SQL`"
   ]
  },
  {
   "cell_type": "code",
   "execution_count": null,
   "metadata": {},
   "outputs": [],
   "source": [
    "%%fsql\n",
    "LOAD \"s3://kaggle-data-instacart/orders.csv\" (header=TRUE, infer_schema=TRUE)\n",
    "YIELD DATAFRAME AS orders"
   ]
  },
  {
   "cell_type": "markdown",
   "metadata": {},
   "source": [
    "`FugueSQL`"
   ]
  },
  {
   "cell_type": "code",
   "execution_count": null,
   "metadata": {},
   "outputs": [],
   "source": [
    "%%fsql\n",
    "SELECT COUNT(*) - COUNT(order_id) AS order_id,\n",
    "    COUNT(*) - COUNT(user_id) AS user_id,\n",
    "    COUNT(*) - COUNT(eval_set) AS eval_set,\n",
    "    COUNT(*) - COUNT(order_number) AS order_number,\n",
    "    COUNT(*) - COUNT(order_dow) AS order_dow,\n",
    "    COUNT(*) - COUNT(order_hour_of_day) AS order_hour_of_day,\n",
    "    COUNT(*) - COUNT(days_since_prior_order) AS days_since_prior_order\n",
    "FROM orders\n",
    "PRINT"
   ]
  },
  {
   "cell_type": "markdown",
   "metadata": {},
   "source": [
    "`Python` + `FugueSQL`"
   ]
  },
  {
   "cell_type": "code",
   "execution_count": null,
   "metadata": {},
   "outputs": [],
   "source": [
    "import pandas as pd\n",
    "\n",
    "#schema: *\n",
    "def null_count(df:pd.DataFrame) -> pd.DataFrame:\n",
    "    column_name_null_count_map = df.isnull().sum(axis = 0)\n",
    "    column_null_count = pd.DataFrame(column_name_null_count_map).T\n",
    "    return column_null_count"
   ]
  },
  {
   "cell_type": "code",
   "execution_count": null,
   "metadata": {},
   "outputs": [],
   "source": [
    "%%fsql\n",
    "TRANSFORM orders USING null_count\n",
    "PRINT"
   ]
  },
  {
   "cell_type": "markdown",
   "metadata": {},
   "source": [
    "### Templating\n",
    "\n",
    "For accessing a `Python` variable from `FugueSQL`"
   ]
  },
  {
   "cell_type": "code",
   "execution_count": null,
   "metadata": {},
   "outputs": [],
   "source": [
    "# This is a Python code block\n",
    "cheese_aisle = 'specialty cheeses'"
   ]
  },
  {
   "cell_type": "code",
   "execution_count": null,
   "metadata": {},
   "outputs": [],
   "source": [
    "%%fsql\n",
    "SELECT *\n",
    "  FROM aisles WHERE aisle = '{{cheese_aisle}}'\n",
    "PRINT"
   ]
  },
  {
   "cell_type": "markdown",
   "metadata": {},
   "source": [
    "### Plotting"
   ]
  },
  {
   "cell_type": "code",
   "execution_count": null,
   "metadata": {},
   "outputs": [],
   "source": [
    "import matplotlib.pyplot as plt\n",
    "import seaborn as sns\n",
    "\n",
    "sns.set()\n",
    "COLOR = sns.color_palette()\n",
    "\n",
    "def max_order_barplot(df:pd.DataFrame) -> None:\n",
    "    plt.figure(figsize=(12,8))\n",
    "    sns.barplot(df['n_orders'], df['count'], alpha=0.8, color=COLOR[2])\n",
    "    plt.ylabel('Number of Occurrences', fontsize=12)\n",
    "    plt.xlabel('Maximum order number', fontsize=12)\n",
    "    plt.title(\"Frequency of maximum order numbers\", fontsize=15)\n",
    "    plt.xticks(rotation='vertical')\n",
    "    plt.show()"
   ]
  },
  {
   "cell_type": "code",
   "execution_count": null,
   "metadata": {},
   "outputs": [],
   "source": [
    "%%fsql\n",
    "tempdf = SELECT user_id, MAX(order_number) AS n_orders FROM orders\n",
    "         GROUP BY user_id\n",
    "         PRINT 2 ROWS\n",
    "\n",
    "SELECT n_orders, COUNT(n_orders) AS count FROM tempdf\n",
    "GROUP BY n_orders\n",
    "OUTPUT USING max_order_barplot"
   ]
  },
  {
   "cell_type": "markdown",
   "metadata": {},
   "source": [
    "## Ran out of memory?  No problem!\n",
    "\n",
    "`FugueSQL` runs on `pandas` by default which loads the data into memory.\n",
    "\n",
    "`FugueSQL` can optionally run on `spark` or `dask` instead and use `memory spillover` to handle bigger-than-memory data. \n",
    "\n",
    "> `pandas` also only uses a single core on your local machine, whereas `spark` and `dask` can use all available cores.  As a result we can experience massive speed-ups for large data"
   ]
  },
  {
   "cell_type": "code",
   "execution_count": null,
   "metadata": {},
   "outputs": [],
   "source": [
    "%%fsql\n",
    "LOAD \"s3://kaggle-data-instacart/products.csv\" (header=TRUE, infer_schema=TRUE)\n",
    "YIELD DATAFRAME AS products"
   ]
  },
  {
   "cell_type": "code",
   "execution_count": null,
   "metadata": {},
   "outputs": [],
   "source": [
    "%%fsql\n",
    "LOAD \"s3://kaggle-data-instacart/order_products__prior.csv\" (header=TRUE, infer_schema=TRUE)\n",
    "YIELD DATAFRAME AS order_products"
   ]
  },
  {
   "cell_type": "code",
   "execution_count": null,
   "metadata": {},
   "outputs": [],
   "source": [
    "%%fsql\n",
    "LOAD \"s3://kaggle-data-instacart/departments.csv\" (header=TRUE, infer_schema=TRUE)\n",
    "YIELD DATAFRAME AS departments"
   ]
  },
  {
   "cell_type": "markdown",
   "metadata": {},
   "source": [
    "This operation would run out of memory on `pandas` but not on `dask`!\n",
    "\n",
    "Just replace  `%%fsql` with `%%fsql dask`"
   ]
  },
  {
   "cell_type": "code",
   "execution_count": null,
   "metadata": {},
   "outputs": [],
   "source": [
    "%%fsql dask\n",
    "SELECT order_id, aisle, product_name, department, reordered FROM order_products\n",
    "INNER JOIN products ON order_products.product_id = products.product_id\n",
    "INNER JOIN aisles ON products.aisle_id = aisles.aisle_id\n",
    "INNER JOIN departments ON departments.department_id = products.department_id\n",
    "SAVE OVERWRITE \"/tmp/working/result.parquet\""
   ]
  }
 ],
 "metadata": {
  "interpreter": {
   "hash": "814b6a635eb82e75dd86c0a7d0143d762c0b3f789e29ec93007db54adfd31efd"
  },
  "kernelspec": {
   "display_name": "Python 3.9.7 64-bit ('budapestbi': conda)",
   "name": "python3"
  },
  "language_info": {
   "codemirror_mode": {
    "name": "ipython",
    "version": 3
   },
   "file_extension": ".py",
   "mimetype": "text/x-python",
   "name": "python",
   "nbconvert_exporter": "python",
   "pygments_lexer": "ipython3",
   "version": "3.9.7"
  }
 },
 "nbformat": 4,
 "nbformat_minor": 4
}
